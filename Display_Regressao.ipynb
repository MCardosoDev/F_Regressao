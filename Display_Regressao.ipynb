{
 "cells": [
  {
   "cell_type": "markdown",
   "metadata": {},
   "source": [
    "# Previsão dos modelos de regressão"
   ]
  },
  {
   "cell_type": "code",
   "execution_count": 1,
   "metadata": {},
   "outputs": [],
   "source": [
    "from ipywidgets import widgets, HBox, VBox\n",
    "from IPython.display import display\n",
    "import pickle\n",
    "import numpy as np\n",
    "import warnings\n",
    "warnings.filterwarnings('ignore')"
   ]
  },
  {
   "cell_type": "code",
   "execution_count": 2,
   "metadata": {},
   "outputs": [],
   "source": [
    "model_files = {\n",
    "    'knn_best_model': 'Data/knn_best_model',\n",
    "    'svr_best_model': 'Data/svr_best_model',\n",
    "    'bayesianridge_best_model': 'Data/bayesianridge_best_model',\n",
    "    'elasticnet_best_model': 'Data/elasticnet_best_model',\n",
    "    'ridge_best_model': 'Data/ridge_best_model',\n",
    "    'sgd_best_model': 'Data/sgd_best_model',\n",
    "    'linear_regression_model': 'Data/linear_regression_model',\n",
    "    'lasso_best_model': 'Data/lasso_best_model',\n",
    "    'stacking_model': 'Data/stacking_model',\n",
    "    'scaler': 'Data/scaler',\n",
    "}\n",
    "\n",
    "loaded_models = {}\n",
    "for name, filepath in model_files.items():\n",
    "    with open(filepath, 'rb') as model_file:\n",
    "        loaded_models[name] = pickle.load(model_file)\n",
    "\n",
    "knn_model = loaded_models['knn_best_model']\n",
    "svr_model = loaded_models['svr_best_model']\n",
    "bayesianridge_model = loaded_models['bayesianridge_best_model']\n",
    "elasticnet_model = loaded_models['elasticnet_best_model']\n",
    "ridge_model = loaded_models['ridge_best_model']\n",
    "sgd_model = loaded_models['sgd_best_model']\n",
    "lr_model = loaded_models['linear_regression_model']\n",
    "lasso_model = loaded_models['lasso_best_model']\n",
    "model = loaded_models['stacking_model']\n",
    "scaler_model = loaded_models['scaler']\n"
   ]
  },
  {
   "cell_type": "code",
   "execution_count": 3,
   "metadata": {},
   "outputs": [],
   "source": [
    "def modelo(car):\n",
    "    car_scaled = scaler_model.transform(car)\n",
    "    car_y = np.column_stack((\n",
    "                knn_model.predict(car_scaled),\n",
    "                svr_model.predict(car_scaled),\n",
    "                bayesianridge_model.predict(car_scaled),\n",
    "                elasticnet_model.predict(car_scaled),\n",
    "                ridge_model.predict(car_scaled),\n",
    "                sgd_model.predict(car_scaled),\n",
    "                lr_model.predict(car_scaled),\n",
    "                lasso_model.predict(car_scaled)\n",
    "            ))\n",
    "    return model.predict(car_y)"
   ]
  },
  {
   "cell_type": "code",
   "execution_count": 4,
   "metadata": {},
   "outputs": [
    {
     "name": "stdout",
     "output_type": "stream",
     "text": [
      "$ 31668.00\n",
      "$ 26548.00\n",
      "$ 22964.00\n",
      "$ 9652.00\n"
     ]
    }
   ],
   "source": [
    "year = widgets.Text(description=\"Ano\")\n",
    "miles = widgets.Text(description=\"Quilometragem\")\n",
    "rear_legroom = widgets.Text(description=\"Espaço traseiro para as pernas\")\n",
    "\n",
    "botao = widgets.Button(description=\"Simular\")\n",
    "\n",
    "left = VBox([year])\n",
    "center = VBox([miles])\n",
    "right = VBox([rear_legroom])\n",
    "inputs = HBox([left, center, right])\n",
    "\n",
    "def simulador(sender):\n",
    "    car=[[\n",
    "        int(year.value if year.value else 0),  # type: ignore\n",
    "        int(miles.value if miles.value else 0),  # type: ignore\n",
    "        float(rear_legroom.value if rear_legroom.value else 0)  # type: ignore\n",
    "        ]]\n",
    "    print('$ {0:.2f}'.format(modelo(car)[0]))\n",
    "\n",
    "botao.on_click(simulador)"
   ]
  },
  {
   "cell_type": "code",
   "execution_count": 5,
   "metadata": {},
   "outputs": [
    {
     "data": {
      "application/vnd.jupyter.widget-view+json": {
       "model_id": "36090d4105a44f74a52ff66dff2f58ed",
       "version_major": 2,
       "version_minor": 0
      },
      "text/plain": [
       "HBox(children=(VBox(children=(Text(value='', description='Ano'),)), VBox(children=(Text(value='', description=…"
      ]
     },
     "metadata": {},
     "output_type": "display_data"
    },
    {
     "data": {
      "application/vnd.jupyter.widget-view+json": {
       "model_id": "8b1772ad901f40af95c005667b20badb",
       "version_major": 2,
       "version_minor": 0
      },
      "text/plain": [
       "Button(description='Simular', style=ButtonStyle())"
      ]
     },
     "metadata": {},
     "output_type": "display_data"
    }
   ],
   "source": [
    "display(inputs, botao)"
   ]
  }
 ],
 "metadata": {
  "kernelspec": {
   "display_name": ".venv",
   "language": "python",
   "name": "python3"
  },
  "language_info": {
   "codemirror_mode": {
    "name": "ipython",
    "version": 3
   },
   "file_extension": ".py",
   "mimetype": "text/x-python",
   "name": "python",
   "nbconvert_exporter": "python",
   "pygments_lexer": "ipython3",
   "version": "3.10.11"
  },
  "orig_nbformat": 4
 },
 "nbformat": 4,
 "nbformat_minor": 2
}
