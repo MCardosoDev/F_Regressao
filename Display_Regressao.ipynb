{
 "cells": [
  {
   "cell_type": "markdown",
   "metadata": {},
   "source": [
    "# Previsão dos modelos de regressão"
   ]
  },
  {
   "cell_type": "code",
   "execution_count": 1,
   "metadata": {},
   "outputs": [],
   "source": [
    "from ipywidgets import widgets, HBox, VBox\n",
    "from IPython.display import display\n",
    "import pickle\n",
    "import numpy as np\n",
    "import warnings\n",
    "warnings.filterwarnings('ignore')"
   ]
  },
  {
   "cell_type": "code",
   "execution_count": 2,
   "metadata": {},
   "outputs": [],
   "source": [
    "knn_best_model = open('Data/knn_best_model', 'rb')\n",
    "knn_model = pickle.load(knn_best_model)\n",
    "knn_best_model.close()\n",
    "svr_best_model = open('Data/svr_best_model', 'rb')\n",
    "svr_model = pickle.load(svr_best_model)\n",
    "svr_best_model.close()\n",
    "bayesianridge_best_model = open('Data/bayesianridge_best_model', 'rb')\n",
    "bayesianridge_model = pickle.load(bayesianridge_best_model)\n",
    "bayesianridge_best_model.close()\n",
    "elasticnet_best_model = open('Data/elasticnet_best_model', 'rb')\n",
    "elasticnet_model = pickle.load(elasticnet_best_model)\n",
    "elasticnet_best_model.close()\n",
    "ridge_best_model = open('Data/ridge_best_model', 'rb')\n",
    "ridge_model = pickle.load(ridge_best_model)\n",
    "ridge_best_model.close()\n",
    "sgd_best_model = open('Data/sgd_best_model', 'rb')\n",
    "sgd_model = pickle.load(sgd_best_model)\n",
    "sgd_best_model.close()\n",
    "linear_regression_model = open('Data/linear_regression_model', 'rb')\n",
    "lr_model = pickle.load(linear_regression_model)\n",
    "linear_regression_model.close()\n",
    "lasso_best_model = open('Data/lasso_best_model', 'rb')\n",
    "lasso_model = pickle.load(lasso_best_model)\n",
    "lasso_best_model.close()\n",
    "stacking_model = open('Data/stacking_model', 'rb')\n",
    "model = pickle.load(stacking_model)\n",
    "stacking_model.close()\n",
    "scaler = open('Data/scaler', 'rb')\n",
    "scaler_model = pickle.load(scaler)\n",
    "scaler.close()"
   ]
  },
  {
   "cell_type": "code",
   "execution_count": 3,
   "metadata": {},
   "outputs": [],
   "source": [
    "def modelo(car):\n",
    "    car_scaled = scaler_model.transform(car)\n",
    "    car_y = np.column_stack((\n",
    "                knn_model.predict(car_scaled),\n",
    "                svr_model.predict(car_scaled),\n",
    "                bayesianridge_model.predict(car_scaled),\n",
    "                elasticnet_model.predict(car_scaled),\n",
    "                ridge_model.predict(car_scaled),\n",
    "                sgd_model.predict(car_scaled),\n",
    "                lr_model.predict(car_scaled),\n",
    "                lasso_model.predict(car_scaled)\n",
    "            ))\n",
    "    return model.predict(car_y)"
   ]
  },
  {
   "cell_type": "code",
   "execution_count": 4,
   "metadata": {},
   "outputs": [
    {
     "name": "stdout",
     "output_type": "stream",
     "text": [
      "$ 23988.00\n",
      "$ 26548.00\n",
      "$ 46516.00\n",
      "$ 23988.00\n",
      "$ 13748.00\n",
      "$ 16564.00\n",
      "$ 16564.00\n"
     ]
    }
   ],
   "source": [
    "year = widgets.Text(description=\"Ano\")\n",
    "miles = widgets.Text(description=\"Quilometragem\")\n",
    "rear_legroom = widgets.Text(description=\"Espaço traseiro para as pernas\")\n",
    "\n",
    "botao = widgets.Button(description=\"Simular\")\n",
    "\n",
    "left = VBox([year])\n",
    "center = VBox([miles])\n",
    "right = VBox([rear_legroom])\n",
    "inputs = HBox([left, center, right])\n",
    "\n",
    "def simulador(sender):\n",
    "    car=[[\n",
    "        int(year.value if year.value else 0),  # type: ignore\n",
    "        int(miles.value if miles.value else 0),  # type: ignore\n",
    "        float(rear_legroom.value if rear_legroom.value else 0)  # type: ignore\n",
    "        ]]\n",
    "    print('$ {0:.2f}'.format(modelo(car)[0]))\n",
    "\n",
    "botao.on_click(simulador)"
   ]
  },
  {
   "cell_type": "code",
   "execution_count": 6,
   "metadata": {},
   "outputs": [
    {
     "data": {
      "application/vnd.jupyter.widget-view+json": {
       "model_id": "50d73239ba9640d785a306c947746c11",
       "version_major": 2,
       "version_minor": 0
      },
      "text/plain": [
       "HBox(children=(VBox(children=(Text(value='2019', description='Ano'),)), VBox(children=(Text(value='23900', des…"
      ]
     },
     "metadata": {},
     "output_type": "display_data"
    },
    {
     "data": {
      "application/vnd.jupyter.widget-view+json": {
       "model_id": "64fedb63ba5a4ca988ab0350c472a0b1",
       "version_major": 2,
       "version_minor": 0
      },
      "text/plain": [
       "Button(description='Simular', style=ButtonStyle())"
      ]
     },
     "metadata": {},
     "output_type": "display_data"
    }
   ],
   "source": [
    "display(inputs, botao)"
   ]
  }
 ],
 "metadata": {
  "kernelspec": {
   "display_name": ".venv",
   "language": "python",
   "name": "python3"
  },
  "language_info": {
   "codemirror_mode": {
    "name": "ipython",
    "version": 3
   },
   "file_extension": ".py",
   "mimetype": "text/x-python",
   "name": "python",
   "nbconvert_exporter": "python",
   "pygments_lexer": "ipython3",
   "version": "3.10.11"
  },
  "orig_nbformat": 4
 },
 "nbformat": 4,
 "nbformat_minor": 2
}
